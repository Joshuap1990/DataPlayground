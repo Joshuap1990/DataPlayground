{
 "cells": [
  {
   "cell_type": "markdown",
   "metadata": {},
   "source": [
    "# The Haunted DAG and Causal Terror"
   ]
  },
  {
   "cell_type": "code",
   "execution_count": 24,
   "metadata": {},
   "outputs": [],
   "source": [
    "%matplotlib inline\n",
    "import pymc3 as pm\n",
    "import numpy as np\n",
    "import pandas as pd\n",
    "from scipy import stats\n",
    "# R-like interface, alternatively you can import statsmodels as import statsmodels.api as sm\n",
    "import statsmodels.formula.api as smf \n",
    "import statsmodels.api as sm\n",
    "import matplotlib.pyplot as plt\n",
    "import seaborn as sns\n",
    "\n",
    "%config InlineBackend.figure_format = 'retina'\n",
    "plt.style.use(['seaborn-colorblind', 'seaborn-darkgrid'])"
   ]
  },
  {
   "cell_type": "markdown",
   "metadata": {},
   "source": [
    "## Multicollinearity\n",
    "\n",
    "It is commonly true that there are many potential predictor variables to add to a regression model. In the case of the primate milk data, for example, there are 7 variables available to predict any column we chose as an outcome. Why not just fit a model that includes all 7? There are several hazards. The one we'll focus on here is MULTICOLLINEARITY. Multicollinearity means very strong correlation between two or more predictor variables. The consequence of it is that the posterior distribution will seem to suggest that none of the variables is reliably associated with the outcome, even if all of the variables are in reality strongly associated with the outcome. This frustrating phenomonon arises from the details of how multiple regression works. In fact, there is nothing wrong with multicollinearity. The model will work fine for prediction. You will just be frustrated trying to understand it. The hope is that once you understand multicollinearity, you will better understand regression models in general."
   ]
  },
  {
   "cell_type": "markdown",
   "metadata": {},
   "source": [
    "### Multicollinear legs\n",
    "\n",
    "The code below will simulate the heights and leg lengths of 100 individuals. For each first a height is simulated from a gaussian distribution. Then each individual gets a simulated proportion of height for their legs, ranging from 0.4 to 0.5. Finally each measurement is salted with a little measurement or developmental error, so the left and right legs are not exactly the same length, so it typical in real populations."
   ]
  },
  {
   "cell_type": "code",
   "execution_count": 4,
   "metadata": {},
   "outputs": [
    {
     "data": {
      "text/html": [
       "<div>\n",
       "<style scoped>\n",
       "    .dataframe tbody tr th:only-of-type {\n",
       "        vertical-align: middle;\n",
       "    }\n",
       "\n",
       "    .dataframe tbody tr th {\n",
       "        vertical-align: top;\n",
       "    }\n",
       "\n",
       "    .dataframe thead th {\n",
       "        text-align: right;\n",
       "    }\n",
       "</style>\n",
       "<table border=\"1\" class=\"dataframe\">\n",
       "  <thead>\n",
       "    <tr style=\"text-align: right;\">\n",
       "      <th></th>\n",
       "      <th>height</th>\n",
       "      <th>leg_left</th>\n",
       "      <th>leg_right</th>\n",
       "    </tr>\n",
       "  </thead>\n",
       "  <tbody>\n",
       "    <tr>\n",
       "      <th>0</th>\n",
       "      <td>8.820874</td>\n",
       "      <td>3.941342</td>\n",
       "      <td>3.889197</td>\n",
       "    </tr>\n",
       "    <tr>\n",
       "      <th>1</th>\n",
       "      <td>7.893202</td>\n",
       "      <td>3.467567</td>\n",
       "      <td>3.459874</td>\n",
       "    </tr>\n",
       "    <tr>\n",
       "      <th>2</th>\n",
       "      <td>14.343867</td>\n",
       "      <td>6.142550</td>\n",
       "      <td>6.195568</td>\n",
       "    </tr>\n",
       "    <tr>\n",
       "      <th>3</th>\n",
       "      <td>12.075518</td>\n",
       "      <td>5.523269</td>\n",
       "      <td>5.493964</td>\n",
       "    </tr>\n",
       "    <tr>\n",
       "      <th>4</th>\n",
       "      <td>8.345456</td>\n",
       "      <td>3.913639</td>\n",
       "      <td>3.900918</td>\n",
       "    </tr>\n",
       "  </tbody>\n",
       "</table>\n",
       "</div>"
      ],
      "text/plain": [
       "      height  leg_left  leg_right\n",
       "0   8.820874  3.941342   3.889197\n",
       "1   7.893202  3.467567   3.459874\n",
       "2  14.343867  6.142550   6.195568\n",
       "3  12.075518  5.523269   5.493964\n",
       "4   8.345456  3.913639   3.900918"
      ]
     },
     "execution_count": 4,
     "metadata": {},
     "output_type": "execute_result"
    }
   ],
   "source": [
    "N = 100\n",
    "height = stats.norm.rvs(size=N, loc=10, scale=2)\n",
    "leg_prop = stats.uniform.rvs(size=N, loc=0.4, scale=0.1)   # remember loc and scale have been repurposed to min and max \n",
    "leg_left = leg_prop * height + stats.norm.rvs(size=N, loc=0, scale=0.02)\n",
    "leg_right = leg_prop * height + stats.norm.rvs(size=N, loc=0, scale=0.02)\n",
    "\n",
    "df = pd.DataFrame({'height': height,\n",
    "                   'leg_left': leg_left,\n",
    "                   'leg_right': leg_right})\n",
    "\n",
    "df.head()"
   ]
  },
  {
   "cell_type": "markdown",
   "metadata": {},
   "source": [
    "Now lets analyse the data, predicting the outcome 'height' with both predictors, leg_left and leg_right. Before approximating the posterior, however consider what we expect. On average, an individuals legs are 45% of their height. So we should expect the beta coefficient that measures the association of a leg with height to end up around the average height (10) divided by 45%. This is 10/4.5 = 2.2. Now lets see what happens instead. (using very vague priors)"
   ]
  },
  {
   "cell_type": "code",
   "execution_count": 5,
   "metadata": {},
   "outputs": [
    {
     "name": "stderr",
     "output_type": "stream",
     "text": [
      "Auto-assigning NUTS sampler...\n",
      "Initializing NUTS using jitter+adapt_diag...\n",
      "Multiprocess sampling (4 chains in 4 jobs)\n",
      "NUTS: [sigma, br, bl, a]\n",
      "Sampling 4 chains, 0 divergences: 100%|██████████| 8000/8000 [01:39<00:00, 80.52draws/s] \n"
     ]
    }
   ],
   "source": [
    "with pm.Model() as m6_1:\n",
    "    a = pm.Normal('a', mu=10, sd=100)\n",
    "    bl = pm.Normal('bl', mu=2, sd=10)\n",
    "    br = pm.Normal('br', mu=2, sd=10)\n",
    "    mu = pm.Deterministic('mu', a + bl * leg_left + br * leg_right)    \n",
    "    sigma = pm.Exponential('sigma', lam=1)\n",
    "    height_p = pm.Normal('height_p', mu=mu, sd=sigma, observed=height)\n",
    "    \n",
    "    trace_6_1 = pm.sample(1000, tune=1000)"
   ]
  },
  {
   "cell_type": "code",
   "execution_count": 7,
   "metadata": {},
   "outputs": [
    {
     "data": {
      "text/html": [
       "<div>\n",
       "<style scoped>\n",
       "    .dataframe tbody tr th:only-of-type {\n",
       "        vertical-align: middle;\n",
       "    }\n",
       "\n",
       "    .dataframe tbody tr th {\n",
       "        vertical-align: top;\n",
       "    }\n",
       "\n",
       "    .dataframe thead th {\n",
       "        text-align: right;\n",
       "    }\n",
       "</style>\n",
       "<table border=\"1\" class=\"dataframe\">\n",
       "  <thead>\n",
       "    <tr style=\"text-align: right;\">\n",
       "      <th></th>\n",
       "      <th>mean</th>\n",
       "      <th>sd</th>\n",
       "      <th>hpd_3%</th>\n",
       "      <th>hpd_97%</th>\n",
       "      <th>mcse_mean</th>\n",
       "      <th>mcse_sd</th>\n",
       "      <th>ess_mean</th>\n",
       "      <th>ess_sd</th>\n",
       "      <th>ess_bulk</th>\n",
       "      <th>ess_tail</th>\n",
       "      <th>r_hat</th>\n",
       "    </tr>\n",
       "  </thead>\n",
       "  <tbody>\n",
       "    <tr>\n",
       "      <th>a</th>\n",
       "      <td>0.841</td>\n",
       "      <td>0.307</td>\n",
       "      <td>0.245</td>\n",
       "      <td>1.398</td>\n",
       "      <td>0.006</td>\n",
       "      <td>0.004</td>\n",
       "      <td>2557.0</td>\n",
       "      <td>2548.0</td>\n",
       "      <td>2563.0</td>\n",
       "      <td>1908.0</td>\n",
       "      <td>1.0</td>\n",
       "    </tr>\n",
       "    <tr>\n",
       "      <th>bl</th>\n",
       "      <td>-0.286</td>\n",
       "      <td>2.132</td>\n",
       "      <td>-4.363</td>\n",
       "      <td>3.555</td>\n",
       "      <td>0.057</td>\n",
       "      <td>0.044</td>\n",
       "      <td>1421.0</td>\n",
       "      <td>1196.0</td>\n",
       "      <td>1420.0</td>\n",
       "      <td>1554.0</td>\n",
       "      <td>1.0</td>\n",
       "    </tr>\n",
       "    <tr>\n",
       "      <th>br</th>\n",
       "      <td>2.318</td>\n",
       "      <td>2.136</td>\n",
       "      <td>-1.553</td>\n",
       "      <td>6.381</td>\n",
       "      <td>0.057</td>\n",
       "      <td>0.041</td>\n",
       "      <td>1421.0</td>\n",
       "      <td>1368.0</td>\n",
       "      <td>1421.0</td>\n",
       "      <td>1573.0</td>\n",
       "      <td>1.0</td>\n",
       "    </tr>\n",
       "  </tbody>\n",
       "</table>\n",
       "</div>"
      ],
      "text/plain": [
       "     mean     sd  hpd_3%  hpd_97%  mcse_mean  mcse_sd  ess_mean  ess_sd  \\\n",
       "a   0.841  0.307   0.245    1.398      0.006    0.004    2557.0  2548.0   \n",
       "bl -0.286  2.132  -4.363    3.555      0.057    0.044    1421.0  1196.0   \n",
       "br  2.318  2.136  -1.553    6.381      0.057    0.041    1421.0  1368.0   \n",
       "\n",
       "    ess_bulk  ess_tail  r_hat  \n",
       "a     2563.0    1908.0    1.0  \n",
       "bl    1420.0    1554.0    1.0  \n",
       "br    1421.0    1573.0    1.0  "
      ]
     },
     "execution_count": 7,
     "metadata": {},
     "output_type": "execute_result"
    }
   ],
   "source": [
    "pm.summary(trace_6_1,['a','bl','br'])"
   ]
  },
  {
   "cell_type": "code",
   "execution_count": 9,
   "metadata": {},
   "outputs": [
    {
     "data": {
      "text/plain": [
       "array([<AxesSubplot:title={'center':'94.0% Credible Interval'}>],\n",
       "      dtype=object)"
      ]
     },
     "execution_count": 9,
     "metadata": {},
     "output_type": "execute_result"
    },
    {
     "data": {
      "image/png": "[encoded data removed]",
      "text/plain": [
       "<Figure size 432x619.2 with 1 Axes>"
      ]
     },
     "metadata": {
      "image/png": {
       "height": 627,
       "width": 440
      }
     },
     "output_type": "display_data"
    }
   ],
   "source": [
    "pm.plot_forest(trace_6_1, var_names = ['a','bl','br','sigma'])"
   ]
  },
  {
   "cell_type": "markdown",
   "metadata": {},
   "source": [
    "Those posterior means and standard deviations look crazy. Did the model work correctly? - yes - The posterior distribution is the right answer to the question we asked. The problem is the question. Recall that a multiple linear regression answers the question:\n",
    "\n",
    "*What is the value of knowing each predictor, after already knowing all of the other predictors?*\n",
    "\n",
    "So in this case, the question becomes: *what is the value of knowing each legs length, after already knowing the other legs length*\n",
    "\n",
    "The answer to this wierd question is equally wierd, but perfectly logical. The posterior distribution is the answer to this question, considering every possible combination of the parameters and assigning relative plausabilities to every combination, conditional on this model and these data. It may help to look at the bivariate posterior distribution for bl and br"
   ]
  },
  {
   "cell_type": "code",
   "execution_count": 10,
   "metadata": {},
   "outputs": [
    {
     "data": {
      "text/plain": [
       "<matplotlib.collections.PathCollection at 0x7f85f8c8ea00>"
      ]
     },
     "execution_count": 10,
     "metadata": {},
     "output_type": "execute_result"
    },
    {
     "data": {
      "image/png": "[encoded data removed]",
      "text/plain": [
       "<Figure size 432x288 with 1 Axes>"
      ]
     },
     "metadata": {
      "image/png": {
       "height": 244,
       "width": 372
      }
     },
     "output_type": "display_data"
    }
   ],
   "source": [
    "plt.scatter(trace_6_1['bl'], trace_6_1['br'])"
   ]
  },
  {
   "cell_type": "code",
   "execution_count": 11,
   "metadata": {},
   "outputs": [
    {
     "data": {
      "text/plain": [
       "(array([  27.,  117.,  395.,  742., 1016.,  918.,  506.,  205.,   56.,\n",
       "          18.]),\n",
       " array([1.82543543, 1.86936778, 1.91330012, 1.95723247, 2.00116481,\n",
       "        2.04509716, 2.0890295 , 2.13296185, 2.17689419, 2.22082654,\n",
       "        2.26475888]),\n",
       " <BarContainer object of 10 artists>)"
      ]
     },
     "execution_count": 11,
     "metadata": {},
     "output_type": "execute_result"
    },
    {
     "data": {
      "image/png": "[encoded data removed]",
      "text/plain": [
       "<Figure size 432x288 with 1 Axes>"
      ]
     },
     "metadata": {
      "image/png": {
       "height": 244,
       "width": 374
      }
     },
     "output_type": "display_data"
    }
   ],
   "source": [
    "plt.hist(trace_6_1['bl']+ trace_6_1['br'])"
   ]
  },
  {
   "cell_type": "markdown",
   "metadata": {},
   "source": [
    "The resulting plot above. The posterior distribution for these two parameters is very highly correlated, with all of the plausible values of bl and br laying along a narrow ridge. When bl is large, then br must be small. What has happened here is that since both leg variables contain almost exactly the same information, if you insist on including both in a model, then there will be practically an infinite number of combinations of bl and br that produce the same predictions."
   ]
  },
  {
   "cell_type": "markdown",
   "metadata": {},
   "source": [
    "When two predictor variables are very strongly correlated, including both in a model may lead to confusion. The posterior distribution isnt wrong in such cases. Its telling you that the question you asked cannot be answered with these data. And thats a great thing for a model to say, that it cannot answer your question. And if you are just interested in prediction, you'll find that this leg model makes fine predictions. It just doesnt make any claims about which leg is important."
   ]
  },
  {
   "cell_type": "markdown",
   "metadata": {},
   "source": [
    "## Multicollinear Milk\n",
    "\n",
    "In the leg length example, its easy to see that including both legs in the model is a little silly. But the problem arises in real data sets is that we may not anticipate a clash between highly correlated predictors. And therefore we may mistakenly read the posterior distribution to say that neither predictor is important. \n",
    "\n",
    "Lets return to the primate milk data from earlier:"
   ]
  },
  {
   "cell_type": "code",
   "execution_count": 15,
   "metadata": {},
   "outputs": [
    {
     "data": {
      "text/html": [
       "<div>\n",
       "<style scoped>\n",
       "    .dataframe tbody tr th:only-of-type {\n",
       "        vertical-align: middle;\n",
       "    }\n",
       "\n",
       "    .dataframe tbody tr th {\n",
       "        vertical-align: top;\n",
       "    }\n",
       "\n",
       "    .dataframe thead th {\n",
       "        text-align: right;\n",
       "    }\n",
       "</style>\n",
       "<table border=\"1\" class=\"dataframe\">\n",
       "  <thead>\n",
       "    <tr style=\"text-align: right;\">\n",
       "      <th></th>\n",
       "      <th>clade</th>\n",
       "      <th>species</th>\n",
       "      <th>kcal.per.g</th>\n",
       "      <th>perc.fat</th>\n",
       "      <th>perc.protein</th>\n",
       "      <th>perc.lactose</th>\n",
       "      <th>mass</th>\n",
       "      <th>neocortex.perc</th>\n",
       "      <th>K</th>\n",
       "      <th>F</th>\n",
       "      <th>L</th>\n",
       "    </tr>\n",
       "  </thead>\n",
       "  <tbody>\n",
       "    <tr>\n",
       "      <th>0</th>\n",
       "      <td>Strepsirrhine</td>\n",
       "      <td>Eulemur fulvus</td>\n",
       "      <td>0.49</td>\n",
       "      <td>16.60</td>\n",
       "      <td>15.42</td>\n",
       "      <td>67.98</td>\n",
       "      <td>1.95</td>\n",
       "      <td>55.16</td>\n",
       "      <td>-0.940041</td>\n",
       "      <td>-1.217243</td>\n",
       "      <td>1.307262</td>\n",
       "    </tr>\n",
       "    <tr>\n",
       "      <th>1</th>\n",
       "      <td>Strepsirrhine</td>\n",
       "      <td>E macaco</td>\n",
       "      <td>0.51</td>\n",
       "      <td>19.27</td>\n",
       "      <td>16.91</td>\n",
       "      <td>63.82</td>\n",
       "      <td>2.09</td>\n",
       "      <td>NaN</td>\n",
       "      <td>-0.816126</td>\n",
       "      <td>-1.030355</td>\n",
       "      <td>1.011285</td>\n",
       "    </tr>\n",
       "    <tr>\n",
       "      <th>2</th>\n",
       "      <td>Strepsirrhine</td>\n",
       "      <td>E mongoz</td>\n",
       "      <td>0.46</td>\n",
       "      <td>14.11</td>\n",
       "      <td>16.85</td>\n",
       "      <td>69.04</td>\n",
       "      <td>2.51</td>\n",
       "      <td>NaN</td>\n",
       "      <td>-1.125913</td>\n",
       "      <td>-1.391531</td>\n",
       "      <td>1.382679</td>\n",
       "    </tr>\n",
       "    <tr>\n",
       "      <th>3</th>\n",
       "      <td>Strepsirrhine</td>\n",
       "      <td>E rubriventer</td>\n",
       "      <td>0.48</td>\n",
       "      <td>14.91</td>\n",
       "      <td>13.18</td>\n",
       "      <td>71.91</td>\n",
       "      <td>1.62</td>\n",
       "      <td>NaN</td>\n",
       "      <td>-1.001998</td>\n",
       "      <td>-1.335535</td>\n",
       "      <td>1.586874</td>\n",
       "    </tr>\n",
       "    <tr>\n",
       "      <th>4</th>\n",
       "      <td>Strepsirrhine</td>\n",
       "      <td>Lemur catta</td>\n",
       "      <td>0.60</td>\n",
       "      <td>27.28</td>\n",
       "      <td>19.50</td>\n",
       "      <td>53.22</td>\n",
       "      <td>2.19</td>\n",
       "      <td>NaN</td>\n",
       "      <td>-0.258511</td>\n",
       "      <td>-0.469693</td>\n",
       "      <td>0.257115</td>\n",
       "    </tr>\n",
       "  </tbody>\n",
       "</table>\n",
       "</div>"
      ],
      "text/plain": [
       "           clade         species  kcal.per.g  perc.fat  perc.protein  \\\n",
       "0  Strepsirrhine  Eulemur fulvus        0.49     16.60         15.42   \n",
       "1  Strepsirrhine        E macaco        0.51     19.27         16.91   \n",
       "2  Strepsirrhine        E mongoz        0.46     14.11         16.85   \n",
       "3  Strepsirrhine   E rubriventer        0.48     14.91         13.18   \n",
       "4  Strepsirrhine     Lemur catta        0.60     27.28         19.50   \n",
       "\n",
       "   perc.lactose  mass  neocortex.perc         K         F         L  \n",
       "0         67.98  1.95           55.16 -0.940041 -1.217243  1.307262  \n",
       "1         63.82  2.09             NaN -0.816126 -1.030355  1.011285  \n",
       "2         69.04  2.51             NaN -1.125913 -1.391531  1.382679  \n",
       "3         71.91  1.62             NaN -1.001998 -1.335535  1.586874  \n",
       "4         53.22  2.19             NaN -0.258511 -0.469693  0.257115  "
      ]
     },
     "execution_count": 15,
     "metadata": {},
     "output_type": "execute_result"
    }
   ],
   "source": [
    "def standardise(data):\n",
    "    return (data-data.mean())/data.std()\n",
    "\n",
    "milk_df = pd.read_csv('milk.csv', sep=';')\n",
    "#milk_df.dropna(inplace=True)\n",
    "\n",
    "milk_df['K'] = standardise(milk_df['kcal.per.g'])\n",
    "milk_df['F'] = standardise(milk_df['perc.fat'])\n",
    "milk_df['L'] = standardise(milk_df['perc.lactose'])\n",
    "milk_df.head()"
   ]
  },
  {
   "cell_type": "code",
   "execution_count": 19,
   "metadata": {},
   "outputs": [
    {
     "name": "stderr",
     "output_type": "stream",
     "text": [
      "Auto-assigning NUTS sampler...\n",
      "Initializing NUTS using jitter+adapt_diag...\n",
      "Multiprocess sampling (4 chains in 4 jobs)\n",
      "NUTS: [sigma, bf, a]\n",
      "Sampling 4 chains, 0 divergences: 100%|██████████| 8000/8000 [00:04<00:00, 1691.17draws/s]\n"
     ]
    },
    {
     "data": {
      "text/html": [
       "<div>\n",
       "<style scoped>\n",
       "    .dataframe tbody tr th:only-of-type {\n",
       "        vertical-align: middle;\n",
       "    }\n",
       "\n",
       "    .dataframe tbody tr th {\n",
       "        vertical-align: top;\n",
       "    }\n",
       "\n",
       "    .dataframe thead th {\n",
       "        text-align: right;\n",
       "    }\n",
       "</style>\n",
       "<table border=\"1\" class=\"dataframe\">\n",
       "  <thead>\n",
       "    <tr style=\"text-align: right;\">\n",
       "      <th></th>\n",
       "      <th>mean</th>\n",
       "      <th>sd</th>\n",
       "      <th>hpd_3%</th>\n",
       "      <th>hpd_97%</th>\n",
       "      <th>mcse_mean</th>\n",
       "      <th>mcse_sd</th>\n",
       "      <th>ess_mean</th>\n",
       "      <th>ess_sd</th>\n",
       "      <th>ess_bulk</th>\n",
       "      <th>ess_tail</th>\n",
       "      <th>r_hat</th>\n",
       "    </tr>\n",
       "  </thead>\n",
       "  <tbody>\n",
       "    <tr>\n",
       "      <th>a</th>\n",
       "      <td>0.000</td>\n",
       "      <td>0.094</td>\n",
       "      <td>-0.174</td>\n",
       "      <td>0.176</td>\n",
       "      <td>0.001</td>\n",
       "      <td>0.002</td>\n",
       "      <td>4046.0</td>\n",
       "      <td>1352.0</td>\n",
       "      <td>4236.0</td>\n",
       "      <td>2711.0</td>\n",
       "      <td>1.0</td>\n",
       "    </tr>\n",
       "    <tr>\n",
       "      <th>bf</th>\n",
       "      <td>0.879</td>\n",
       "      <td>0.094</td>\n",
       "      <td>0.698</td>\n",
       "      <td>1.054</td>\n",
       "      <td>0.002</td>\n",
       "      <td>0.001</td>\n",
       "      <td>3783.0</td>\n",
       "      <td>3783.0</td>\n",
       "      <td>3782.0</td>\n",
       "      <td>3015.0</td>\n",
       "      <td>1.0</td>\n",
       "    </tr>\n",
       "    <tr>\n",
       "      <th>sigma</th>\n",
       "      <td>0.489</td>\n",
       "      <td>0.071</td>\n",
       "      <td>0.372</td>\n",
       "      <td>0.623</td>\n",
       "      <td>0.001</td>\n",
       "      <td>0.001</td>\n",
       "      <td>3721.0</td>\n",
       "      <td>3563.0</td>\n",
       "      <td>3833.0</td>\n",
       "      <td>2711.0</td>\n",
       "      <td>1.0</td>\n",
       "    </tr>\n",
       "  </tbody>\n",
       "</table>\n",
       "</div>"
      ],
      "text/plain": [
       "        mean     sd  hpd_3%  hpd_97%  mcse_mean  mcse_sd  ess_mean  ess_sd  \\\n",
       "a      0.000  0.094  -0.174    0.176      0.001    0.002    4046.0  1352.0   \n",
       "bf     0.879  0.094   0.698    1.054      0.002    0.001    3783.0  3783.0   \n",
       "sigma  0.489  0.071   0.372    0.623      0.001    0.001    3721.0  3563.0   \n",
       "\n",
       "       ess_bulk  ess_tail  r_hat  \n",
       "a        4236.0    2711.0    1.0  \n",
       "bf       3782.0    3015.0    1.0  \n",
       "sigma    3833.0    2711.0    1.0  "
      ]
     },
     "execution_count": 19,
     "metadata": {},
     "output_type": "execute_result"
    }
   ],
   "source": [
    "with pm.Model() as m6_3:\n",
    "    a = pm.Normal('a',mu = 0.6, sd=10)\n",
    "    bf = pm.Normal('bf',mu=0, sd= 1)\n",
    "    mu = pm.Deterministic('mu',a + bf * milk_df['F'])    \n",
    "    sigma = pm.Exponential('sigma', lam=1)\n",
    "    kcalperg = pm.Normal('kcal.per.g',mu=mu, sd=sigma, observed=milk_df['K'])\n",
    "    trace_6_3 = pm.sample(1000, tune=1000)\n",
    "    \n",
    "pm.summary(trace_6_3,['a','bf','sigma'])"
   ]
  },
  {
   "cell_type": "code",
   "execution_count": 21,
   "metadata": {},
   "outputs": [
    {
     "name": "stderr",
     "output_type": "stream",
     "text": [
      "Auto-assigning NUTS sampler...\n",
      "Initializing NUTS using jitter+adapt_diag...\n",
      "Multiprocess sampling (4 chains in 4 jobs)\n",
      "NUTS: [sigma, bl, a]\n",
      "Sampling 4 chains, 0 divergences: 100%|██████████| 8000/8000 [00:04<00:00, 1697.62draws/s]\n"
     ]
    },
    {
     "data": {
      "text/html": [
       "<div>\n",
       "<style scoped>\n",
       "    .dataframe tbody tr th:only-of-type {\n",
       "        vertical-align: middle;\n",
       "    }\n",
       "\n",
       "    .dataframe tbody tr th {\n",
       "        vertical-align: top;\n",
       "    }\n",
       "\n",
       "    .dataframe thead th {\n",
       "        text-align: right;\n",
       "    }\n",
       "</style>\n",
       "<table border=\"1\" class=\"dataframe\">\n",
       "  <thead>\n",
       "    <tr style=\"text-align: right;\">\n",
       "      <th></th>\n",
       "      <th>mean</th>\n",
       "      <th>sd</th>\n",
       "      <th>hpd_3%</th>\n",
       "      <th>hpd_97%</th>\n",
       "      <th>mcse_mean</th>\n",
       "      <th>mcse_sd</th>\n",
       "      <th>ess_mean</th>\n",
       "      <th>ess_sd</th>\n",
       "      <th>ess_bulk</th>\n",
       "      <th>ess_tail</th>\n",
       "      <th>r_hat</th>\n",
       "    </tr>\n",
       "  </thead>\n",
       "  <tbody>\n",
       "    <tr>\n",
       "      <th>a</th>\n",
       "      <td>-0.001</td>\n",
       "      <td>0.077</td>\n",
       "      <td>-0.140</td>\n",
       "      <td>0.148</td>\n",
       "      <td>0.001</td>\n",
       "      <td>0.001</td>\n",
       "      <td>4464.0</td>\n",
       "      <td>2138.0</td>\n",
       "      <td>4494.0</td>\n",
       "      <td>2791.0</td>\n",
       "      <td>1.0</td>\n",
       "    </tr>\n",
       "    <tr>\n",
       "      <th>bl</th>\n",
       "      <td>-0.916</td>\n",
       "      <td>0.080</td>\n",
       "      <td>-1.063</td>\n",
       "      <td>-0.763</td>\n",
       "      <td>0.001</td>\n",
       "      <td>0.001</td>\n",
       "      <td>4735.0</td>\n",
       "      <td>4653.0</td>\n",
       "      <td>4768.0</td>\n",
       "      <td>2471.0</td>\n",
       "      <td>1.0</td>\n",
       "    </tr>\n",
       "    <tr>\n",
       "      <th>sigma</th>\n",
       "      <td>0.412</td>\n",
       "      <td>0.059</td>\n",
       "      <td>0.311</td>\n",
       "      <td>0.525</td>\n",
       "      <td>0.001</td>\n",
       "      <td>0.001</td>\n",
       "      <td>3604.0</td>\n",
       "      <td>3409.0</td>\n",
       "      <td>3865.0</td>\n",
       "      <td>3082.0</td>\n",
       "      <td>1.0</td>\n",
       "    </tr>\n",
       "  </tbody>\n",
       "</table>\n",
       "</div>"
      ],
      "text/plain": [
       "        mean     sd  hpd_3%  hpd_97%  mcse_mean  mcse_sd  ess_mean  ess_sd  \\\n",
       "a     -0.001  0.077  -0.140    0.148      0.001    0.001    4464.0  2138.0   \n",
       "bl    -0.916  0.080  -1.063   -0.763      0.001    0.001    4735.0  4653.0   \n",
       "sigma  0.412  0.059   0.311    0.525      0.001    0.001    3604.0  3409.0   \n",
       "\n",
       "       ess_bulk  ess_tail  r_hat  \n",
       "a        4494.0    2791.0    1.0  \n",
       "bl       4768.0    2471.0    1.0  \n",
       "sigma    3865.0    3082.0    1.0  "
      ]
     },
     "execution_count": 21,
     "metadata": {},
     "output_type": "execute_result"
    }
   ],
   "source": [
    "with pm.Model() as m6_4:\n",
    "    a = pm.Normal('a',mu = 0.6, sd=10)\n",
    "    bl= pm.Normal('bl',mu=0, sd= 1)\n",
    "    mu = pm.Deterministic('mu',a + bl * milk_df['L'])    \n",
    "    sigma = pm.Exponential('sigma', lam=1)\n",
    "    kcalperg = pm.Normal('kcal.per.g',mu=mu, sd=sigma, observed=milk_df['K'])\n",
    "    trace_6_3 = pm.sample(1000, tune=1000)\n",
    "    \n",
    "pm.summary(trace_6_3,['a','bl','sigma'])"
   ]
  },
  {
   "cell_type": "markdown",
   "metadata": {},
   "source": [
    "The posterior distributions for bF and bL are essentially mirror images of one another. The posterior mean of bF is as positive as the mean of BL is negative. Both are narrow posterior distributions that lie almost entirely on one side or the other of zero. Given the strong association of each predictor with the outcome, we might conclude that both variables are reliable predictors of total energy in milk, across species. The more fat, the more kilocalories in the milk. The more lactose, the fewer kilocalories in milk. But watch what happens when we place both predictor variables in the same regression model."
   ]
  },
  {
   "cell_type": "code",
   "execution_count": 22,
   "metadata": {},
   "outputs": [
    {
     "name": "stderr",
     "output_type": "stream",
     "text": [
      "Auto-assigning NUTS sampler...\n",
      "Initializing NUTS using jitter+adapt_diag...\n",
      "Multiprocess sampling (4 chains in 4 jobs)\n",
      "NUTS: [sigma, bf, bl, a]\n",
      "Sampling 4 chains, 0 divergences: 100%|██████████| 8000/8000 [00:09<00:00, 812.41draws/s] \n",
      "The acceptance probability does not match the target. It is 0.8795979059250331, but should be close to 0.8. Try to increase the number of tuning steps.\n"
     ]
    },
    {
     "data": {
      "text/html": [
       "<div>\n",
       "<style scoped>\n",
       "    .dataframe tbody tr th:only-of-type {\n",
       "        vertical-align: middle;\n",
       "    }\n",
       "\n",
       "    .dataframe tbody tr th {\n",
       "        vertical-align: top;\n",
       "    }\n",
       "\n",
       "    .dataframe thead th {\n",
       "        text-align: right;\n",
       "    }\n",
       "</style>\n",
       "<table border=\"1\" class=\"dataframe\">\n",
       "  <thead>\n",
       "    <tr style=\"text-align: right;\">\n",
       "      <th></th>\n",
       "      <th>mean</th>\n",
       "      <th>sd</th>\n",
       "      <th>hpd_3%</th>\n",
       "      <th>hpd_97%</th>\n",
       "      <th>mcse_mean</th>\n",
       "      <th>mcse_sd</th>\n",
       "      <th>ess_mean</th>\n",
       "      <th>ess_sd</th>\n",
       "      <th>ess_bulk</th>\n",
       "      <th>ess_tail</th>\n",
       "      <th>r_hat</th>\n",
       "    </tr>\n",
       "  </thead>\n",
       "  <tbody>\n",
       "    <tr>\n",
       "      <th>a</th>\n",
       "      <td>-0.000</td>\n",
       "      <td>0.080</td>\n",
       "      <td>-0.158</td>\n",
       "      <td>0.148</td>\n",
       "      <td>0.002</td>\n",
       "      <td>0.002</td>\n",
       "      <td>2339.0</td>\n",
       "      <td>1349.0</td>\n",
       "      <td>2439.0</td>\n",
       "      <td>1904.0</td>\n",
       "      <td>1.0</td>\n",
       "    </tr>\n",
       "    <tr>\n",
       "      <th>bl</th>\n",
       "      <td>-0.724</td>\n",
       "      <td>0.230</td>\n",
       "      <td>-1.166</td>\n",
       "      <td>-0.294</td>\n",
       "      <td>0.006</td>\n",
       "      <td>0.004</td>\n",
       "      <td>1682.0</td>\n",
       "      <td>1597.0</td>\n",
       "      <td>1685.0</td>\n",
       "      <td>1904.0</td>\n",
       "      <td>1.0</td>\n",
       "    </tr>\n",
       "    <tr>\n",
       "      <th>bf</th>\n",
       "      <td>0.205</td>\n",
       "      <td>0.230</td>\n",
       "      <td>-0.243</td>\n",
       "      <td>0.631</td>\n",
       "      <td>0.006</td>\n",
       "      <td>0.004</td>\n",
       "      <td>1642.0</td>\n",
       "      <td>1642.0</td>\n",
       "      <td>1640.0</td>\n",
       "      <td>1835.0</td>\n",
       "      <td>1.0</td>\n",
       "    </tr>\n",
       "    <tr>\n",
       "      <th>sigma</th>\n",
       "      <td>0.416</td>\n",
       "      <td>0.061</td>\n",
       "      <td>0.310</td>\n",
       "      <td>0.529</td>\n",
       "      <td>0.001</td>\n",
       "      <td>0.001</td>\n",
       "      <td>1882.0</td>\n",
       "      <td>1872.0</td>\n",
       "      <td>1883.0</td>\n",
       "      <td>1953.0</td>\n",
       "      <td>1.0</td>\n",
       "    </tr>\n",
       "  </tbody>\n",
       "</table>\n",
       "</div>"
      ],
      "text/plain": [
       "        mean     sd  hpd_3%  hpd_97%  mcse_mean  mcse_sd  ess_mean  ess_sd  \\\n",
       "a     -0.000  0.080  -0.158    0.148      0.002    0.002    2339.0  1349.0   \n",
       "bl    -0.724  0.230  -1.166   -0.294      0.006    0.004    1682.0  1597.0   \n",
       "bf     0.205  0.230  -0.243    0.631      0.006    0.004    1642.0  1642.0   \n",
       "sigma  0.416  0.061   0.310    0.529      0.001    0.001    1882.0  1872.0   \n",
       "\n",
       "       ess_bulk  ess_tail  r_hat  \n",
       "a        2439.0    1904.0    1.0  \n",
       "bl       1685.0    1904.0    1.0  \n",
       "bf       1640.0    1835.0    1.0  \n",
       "sigma    1883.0    1953.0    1.0  "
      ]
     },
     "execution_count": 22,
     "metadata": {},
     "output_type": "execute_result"
    }
   ],
   "source": [
    "with pm.Model() as m6_5:\n",
    "    a = pm.Normal('a',mu = 0.6, sd=10)\n",
    "    bl= pm.Normal('bl',mu=0, sd= 1)\n",
    "    bf = pm.Normal('bf',mu=0, sd= 1)\n",
    "    \n",
    "    mu = pm.Deterministic('mu',a + bl * milk_df['L'] + bf * milk_df['F'])    \n",
    "    sigma = pm.Exponential('sigma', lam=1)\n",
    "    kcalperg = pm.Normal('kcal.per.g',mu=mu, sd=sigma, observed=milk_df['K'])\n",
    "    trace_6_3 = pm.sample(1000, tune=1000)\n",
    "    \n",
    "pm.summary(trace_6_3,['a','bl','bf','sigma'])"
   ]
  },
  {
   "cell_type": "markdown",
   "metadata": {},
   "source": [
    "Now the posterior means of both bF and bL are closer to zero. And the standard deviations for both are twice as large as in the bivariate models. This is the same statistical phenomenon as in the leg length example. What has happened is that the variables 'fat' and 'lactose' contain much of the same information. They are almost substitutes for one another. As a results when you include both in a regression, the posterior distribution ends up describing a long ridge of combinations of bF and bL that are equally plausibe."
   ]
  },
  {
   "cell_type": "code",
   "execution_count": 26,
   "metadata": {},
   "outputs": [
    {
     "data": {
      "text/plain": [
       "<seaborn.axisgrid.PairGrid at 0x7f85b864b9d0>"
      ]
     },
     "execution_count": 26,
     "metadata": {},
     "output_type": "execute_result"
    },
    {
     "data": {
      "image/png": "[encoded data removed]",
      "text/plain": [
       "<Figure size 540x540 with 12 Axes>"
      ]
     },
     "metadata": {
      "image/png": {
       "height": 534,
       "width": 533
      }
     },
     "output_type": "display_data"
    }
   ],
   "source": [
    "sns.pairplot(milk_df[['K','F','L']])"
   ]
  },
  {
   "cell_type": "markdown",
   "metadata": {},
   "source": [
    "In the scientific literature, you might encounter a variety of dodgy ways of coping with multicollinearity. Few of them take a causal perspective. Some fields actually teach students to inspect pairwise correlations before fitting a model, to identify and drop highly correlated predictors. This is a mistake. Pairwise correlations are not the problem. It is the conditional associations - not correlations - that matter. And even then, the right thing to do will depend on what is causing the collinearity. The associations within the data along are not enough to decide what to do."
   ]
  },
  {
   "cell_type": "markdown",
   "metadata": {},
   "source": [
    "Whats going on in the milk example is that there is a core tradeoff in milk composition that mammel mothers must obey. If a species nurses often, then the milk tends to be watery and low in energy. Such milk is high is sugar (lactose). If instead a species nurses rarely, in short bouts, then the milk needs to be higher in energy. such milk is very high in fat.\n",
    "\n",
    "This implies there is an unseen variable - Density\n",
    "\n",
    "The problem of multicollinearilty is a member of a family of problems with fitting models, a family sometimes knows as non-identifiability. When a parameter is non-identifyable, it means that the structure of the data and the model do not make it possible to estimate the parameters value.\n",
    "\n",
    "In general, there is no guarantee that the available data contain much information about a parameter of interest. When thats true, your bayesian machine will return a posterior very similar to the prior. Comparing the posterior to the prior can therefore be a good idea, a way of seeing how much information the model extracted from the data."
   ]
  },
  {
   "cell_type": "code",
   "execution_count": null,
   "metadata": {},
   "outputs": [],
   "source": []
  }
 ],
 "metadata": {
  "kernelspec": {
   "display_name": "Python 3",
   "language": "python",
   "name": "python3"
  },
  "language_info": {
   "codemirror_mode": {
    "name": "ipython",
    "version": 3
   },
   "file_extension": ".py",
   "mimetype": "text/x-python",
   "name": "python",
   "nbconvert_exporter": "python",
   "pygments_lexer": "ipython3",
   "version": "3.8.5"
  }
 },
 "nbformat": 4,
 "nbformat_minor": 4
}
