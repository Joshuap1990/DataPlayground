{
 "cells": [
  {
   "cell_type": "markdown",
   "metadata": {},
   "source": [
    "# More than one type of cluster\n",
    "\n",
    "We can and often should use more than one type of cluster in the same model. For example, the observations in data(chimpanzees), are lever pulls. Each pull is within a cluster of pulls belonging to an individual chimpanzee. But each pull is also an experimental block, which represents a collection of observations that happened on the same day.\n",
    "\n",
    "So in this section, we'll consider the chimpanzees data, using both types of clusters simulataneously. This will allow partial pooling on both categorical variables, actor and block at the same time. We'll also get estimates of the variation among actors and among blocks.\n",
    "\n",
    "\n",
    "## Multilevel chimpanzees\n",
    "\n",
    "Lets proceed by taking the chimpanzees model from chapter 11 and add varying intercepts. To ad varying intercepts to this model we just replace the fixed regularising prior with an adaptive prior. We'll also add a second cluster type. To add the second cluster type - block - we merely replicate the structure for the 'actor' cluster. This means the linear model gets yet another varying intercept alpha_block, and the model gets another adaptive prior and yet another standard deviation parameter"
   ]
  },
  {
   "cell_type": "code",
   "execution_count": null,
   "metadata": {},
   "outputs": [],
   "source": []
  }
 ],
 "metadata": {
  "kernelspec": {
   "display_name": "Python 3",
   "language": "python",
   "name": "python3"
  },
  "language_info": {
   "codemirror_mode": {
    "name": "ipython",
    "version": 3
   },
   "file_extension": ".py",
   "mimetype": "text/x-python",
   "name": "python",
   "nbconvert_exporter": "python",
   "pygments_lexer": "ipython3",
   "version": "3.8.5"
  }
 },
 "nbformat": 4,
 "nbformat_minor": 4
}
