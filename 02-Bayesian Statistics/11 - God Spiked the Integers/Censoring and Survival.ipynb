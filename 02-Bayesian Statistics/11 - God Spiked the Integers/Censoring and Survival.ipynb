{
 "cells": [
  {
   "cell_type": "markdown",
   "metadata": {},
   "source": [
    "# Censoring and Survival"
   ]
  },
  {
   "cell_type": "code",
   "execution_count": 1,
   "metadata": {},
   "outputs": [],
   "source": [
    "import warnings\n",
    "\n",
    "import arviz as az\n",
    "import matplotlib.pyplot as plt\n",
    "import numpy as np\n",
    "import pandas as pd\n",
    "import pymc3 as pm\n",
    "import theano.tensor as tt\n",
    "\n",
    "from scipy import stats\n",
    "from scipy.special import expit as logistic\n",
    "from scipy.special import softmax\n",
    "\n",
    "%config InlineBackend.figure_format = 'retina'\n",
    "warnings.simplefilter(action=\"ignore\", category=FutureWarning)\n",
    "RANDOM_SEED = 8927\n",
    "np.random.seed(286)"
   ]
  },
  {
   "cell_type": "code",
   "execution_count": 2,
   "metadata": {},
   "outputs": [],
   "source": [
    "az.style.use(\"arviz-darkgrid\")\n",
    "az.rcParams[\"stats.credible_interval\"] = 0.89\n",
    "\n",
    "\n",
    "def standardize(series):\n",
    "    \"\"\"Standardize a pandas series\"\"\"\n",
    "    return (series - series.mean()) / series.std()"
   ]
  },
  {
   "cell_type": "markdown",
   "metadata": {},
   "source": [
    "Sometimes the right way to model discrete, countable events is to model not the counts themselves but rather the time between events. Suppose for exmaple we are interested in the rate at which cats are adopted from an animal shelter. The cat can only be adopted once, at least until it is given up for adoption again. How long it waits for adoption gives us information about the rate of adoptions. And a model can tell you how the rate varies by breed or colour. Maybe you don't care about cat adoptions, but you probably do caare about rates of disease onset and recovery, time to death, age at first reproduction, and meny other variables that have a similar structure.\n",
    "\n",
    "Models for dealing with these data are called SURVIVAL MODELS. Survival models are models for countable things, but outcomes we want to predict are durations. Durations are continuous deviations from some point of reference. So they are all positive real values.\n",
    "\n",
    "Distances are similarly positive real values, and both kinds of measurement are DISPLACEMENTS and can be modelled in very similar ways. The simplest distribution for displacements is the EXPONENTIAL DISTRIBUTION, which is the maximum entropy distribution when all we know about the values is their average displacement. So if our goal is just to estimate the average rate of events, its the most conservative choice. The GAMMA DISTRIBUTION is also commonly used. GAMMA is maximum entropy for fixed mean value and fixed mean magnitude. There are lots of models, but we'll start with exponential to keep things easy.\n",
    "\n",
    "One reason to keep the outcome distribution simple is that the tricky bit with survivial analysis is not the probability distribution we  assign to durations. Instead the tricky bit is dealing with CENSORING. censoring occurs when the event of interest does not occur in the window of observation. This can happen most simply because observation ends before the event occurred. For example there are cats still waiting at the animal shelter. Many of them will get adopted. Another way censoring occurs is when some other event happens that makes the event of interest impossible. For example, a cat could die of old age while waiting to be adopted.\n",
    "\n",
    "We can't just toss out the censored individuals. Imagine a cohort of 100 cats who start waiting for adoption at the same time. After one month, half of them have been adopted. Now whats the rate of adoption? You can't compute it using only the cats have been adopted. You need to also account for the cats that have not yet been adopted. The cats who haven't been adopted yet, but eventually will be adopted, clearly have longer waiting times than cats who have already been adopted. So the average rate among those who are already adopted is biased upwards - it is com=nfounded by conditioning on adoption.\n",
    "\n",
    "It isnt hard to include censored observations, but it does require a new type of model that we haven't yet seen in this book. The key idea is that the same distribution assumption for the outcomes tells us both the probability of any obseeved duration without seeing the event. This is admittedly kind of an odd creature. It might help to start out with a generative model - a simulation and try to build intuition for the statistical model."
   ]
  },
  {
   "cell_type": "markdown",
   "metadata": {},
   "source": [
    "## Cat Example.\n",
    "\n",
    "The probability comes from the cumulaive probability distribution. A CDF gives the proportion of cats adopted before or at a certain number of days. So one minus the CDF gives the probability a cat is not adopted by the same number of days. That is the probability we need. This distribution is called the COMPLIMENTARY CUMULATIVE PROBABILITY DISTRIBUTION. In the case of the exponential distribution, the cumulative is:\n",
    "\n",
    "pr(D|lam) = 1-exp(lam D)\n",
    "\n",
    "So the compliment is just\n",
    "\n",
    "Pr(D|lam) = exp(-lam D)\n",
    "\n",
    "So thats what we need in our model, since it is the probability of waiting D days without being adopted yet.\n",
    "\n",
    "The model:\n"
   ]
  },
  {
   "cell_type": "code",
   "execution_count": 6,
   "metadata": {},
   "outputs": [
    {
     "data": {
      "text/html": [
       "<div>\n",
       "<style scoped>\n",
       "    .dataframe tbody tr th:only-of-type {\n",
       "        vertical-align: middle;\n",
       "    }\n",
       "\n",
       "    .dataframe tbody tr th {\n",
       "        vertical-align: top;\n",
       "    }\n",
       "\n",
       "    .dataframe thead th {\n",
       "        text-align: right;\n",
       "    }\n",
       "</style>\n",
       "<table border=\"1\" class=\"dataframe\">\n",
       "  <thead>\n",
       "    <tr style=\"text-align: right;\">\n",
       "      <th></th>\n",
       "      <th>id</th>\n",
       "      <th>days_to_event</th>\n",
       "      <th>date_out</th>\n",
       "      <th>out_event</th>\n",
       "      <th>date_in</th>\n",
       "      <th>in_event</th>\n",
       "      <th>breed</th>\n",
       "      <th>color</th>\n",
       "      <th>intake_age</th>\n",
       "      <th>adopt</th>\n",
       "    </tr>\n",
       "  </thead>\n",
       "  <tbody>\n",
       "    <tr>\n",
       "      <th>0</th>\n",
       "      <td>A730601</td>\n",
       "      <td>1</td>\n",
       "      <td>07/08/2016 09:00:00 AM</td>\n",
       "      <td>Transfer</td>\n",
       "      <td>07/07/2016 12:11:00 PM</td>\n",
       "      <td>Stray</td>\n",
       "      <td>Domestic Shorthair Mix</td>\n",
       "      <td>Blue Tabby</td>\n",
       "      <td>7</td>\n",
       "      <td>0</td>\n",
       "    </tr>\n",
       "    <tr>\n",
       "      <th>1</th>\n",
       "      <td>A679549</td>\n",
       "      <td>25</td>\n",
       "      <td>06/16/2014 01:54:00 PM</td>\n",
       "      <td>Transfer</td>\n",
       "      <td>05/22/2014 03:43:00 PM</td>\n",
       "      <td>Stray</td>\n",
       "      <td>Domestic Shorthair Mix</td>\n",
       "      <td>Black/White</td>\n",
       "      <td>1</td>\n",
       "      <td>0</td>\n",
       "    </tr>\n",
       "    <tr>\n",
       "      <th>2</th>\n",
       "      <td>A683656</td>\n",
       "      <td>4</td>\n",
       "      <td>07/17/2014 04:57:00 PM</td>\n",
       "      <td>Adoption</td>\n",
       "      <td>07/13/2014 01:20:00 PM</td>\n",
       "      <td>Stray</td>\n",
       "      <td>Snowshoe Mix</td>\n",
       "      <td>Lynx Point</td>\n",
       "      <td>2</td>\n",
       "      <td>1</td>\n",
       "    </tr>\n",
       "    <tr>\n",
       "      <th>3</th>\n",
       "      <td>A709749</td>\n",
       "      <td>41</td>\n",
       "      <td>09/22/2015 12:49:00 PM</td>\n",
       "      <td>Transfer</td>\n",
       "      <td>08/12/2015 06:29:00 PM</td>\n",
       "      <td>Stray</td>\n",
       "      <td>Domestic Shorthair Mix</td>\n",
       "      <td>Calico</td>\n",
       "      <td>12</td>\n",
       "      <td>0</td>\n",
       "    </tr>\n",
       "    <tr>\n",
       "      <th>4</th>\n",
       "      <td>A733551</td>\n",
       "      <td>9</td>\n",
       "      <td>09/01/2016 12:00:00 AM</td>\n",
       "      <td>Transfer</td>\n",
       "      <td>08/23/2016 02:35:00 PM</td>\n",
       "      <td>Stray</td>\n",
       "      <td>Domestic Shorthair Mix</td>\n",
       "      <td>Brown Tabby/White</td>\n",
       "      <td>1</td>\n",
       "      <td>0</td>\n",
       "    </tr>\n",
       "  </tbody>\n",
       "</table>\n",
       "</div>"
      ],
      "text/plain": [
       "        id  days_to_event                date_out out_event  \\\n",
       "0  A730601              1  07/08/2016 09:00:00 AM  Transfer   \n",
       "1  A679549             25  06/16/2014 01:54:00 PM  Transfer   \n",
       "2  A683656              4  07/17/2014 04:57:00 PM  Adoption   \n",
       "3  A709749             41  09/22/2015 12:49:00 PM  Transfer   \n",
       "4  A733551              9  09/01/2016 12:00:00 AM  Transfer   \n",
       "\n",
       "                  date_in in_event                   breed              color  \\\n",
       "0  07/07/2016 12:11:00 PM    Stray  Domestic Shorthair Mix         Blue Tabby   \n",
       "1  05/22/2014 03:43:00 PM    Stray  Domestic Shorthair Mix        Black/White   \n",
       "2  07/13/2014 01:20:00 PM    Stray            Snowshoe Mix         Lynx Point   \n",
       "3  08/12/2015 06:29:00 PM    Stray  Domestic Shorthair Mix             Calico   \n",
       "4  08/23/2016 02:35:00 PM    Stray  Domestic Shorthair Mix  Brown Tabby/White   \n",
       "\n",
       "   intake_age  adopt  \n",
       "0           7      0  \n",
       "1           1      0  \n",
       "2           2      1  \n",
       "3          12      0  \n",
       "4           1      0  "
      ]
     },
     "execution_count": 6,
     "metadata": {},
     "output_type": "execute_result"
    }
   ],
   "source": [
    "d = pd.read_csv('AustinCats.csv',sep=';')\n",
    "\n",
    "d['adopt'] = (d['out_event']=='Adoption').astype(int)\n",
    "d.head(5)"
   ]
  },
  {
   "cell_type": "code",
   "execution_count": 8,
   "metadata": {},
   "outputs": [
    {
     "data": {
      "text/plain": [
       "id               object\n",
       "days_to_event     int64\n",
       "date_out         object\n",
       "out_event        object\n",
       "date_in          object\n",
       "in_event         object\n",
       "breed            object\n",
       "color            object\n",
       "intake_age        int64\n",
       "adopt             int64\n",
       "dtype: object"
      ]
     },
     "execution_count": 8,
     "metadata": {},
     "output_type": "execute_result"
    }
   ],
   "source": [
    "d.dtypes"
   ]
  },
  {
   "cell_type": "code",
   "execution_count": null,
   "metadata": {},
   "outputs": [],
   "source": []
  }
 ],
 "metadata": {
  "kernelspec": {
   "display_name": "Python 3",
   "language": "python",
   "name": "python3"
  },
  "language_info": {
   "codemirror_mode": {
    "name": "ipython",
    "version": 3
   },
   "file_extension": ".py",
   "mimetype": "text/x-python",
   "name": "python",
   "nbconvert_exporter": "python",
   "pygments_lexer": "ipython3",
   "version": "3.8.5"
  }
 },
 "nbformat": 4,
 "nbformat_minor": 4
}
