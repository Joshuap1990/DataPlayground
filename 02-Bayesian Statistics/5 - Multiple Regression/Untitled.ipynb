{
 "cells": [
  {
   "cell_type": "markdown",
   "metadata": {},
   "source": [
    "# Bayesian Multiple regression"
   ]
  },
  {
   "cell_type": "markdown",
   "metadata": {},
   "source": [
    "In this next chapter, we'll be extending the bivariate regression from chapter 4 to include multiple predictor variables (instead of just the one 'weight' predictor from the previous chapter. Doing this throws up some intresting opportunities and challenges. Namely CONFOUNDING VARIABLES. How can we be sure that every predictor variable can indpendently cause the output variable?\n",
    "\n",
    "As mentioned in the title, we are going to be doing lots of MULTIPLE REGRESSION. Reasons given for multiple regression models include\n",
    "\n",
    " - Statistical \"Control\" for confounds. A confound is something that misleads us about a causal influence - there will be a more precise definition in the next chapter. The spurious waffles and divorce correlation is one possible type of confound, where confound (southernness) makes a variables with no real importance (waffle house density) appear to be important. But confounds are diverse. They can hide real important variables just as easily as they can produce false ones.\n",
    " \n",
    " - Multiple causation. A phenomoneon may arise from multiple causes. Measurement of each cause is useful, so when we can use the same data to estimate more than one type of influence we should. Furthermore, when causation is multiple, one cause can hide another.\n",
    " \n",
    " - Interations. The importance of one variable may depend on another. For example plants depend on both light and water. But in the absense of either, the other is of no benefit at all. Such interactions occur very often. Effective inference about one variable will often depend upon the consideration of others."
   ]
  },
  {
   "cell_type": "code",
   "execution_count": null,
   "metadata": {},
   "outputs": [],
   "source": []
  }
 ],
 "metadata": {
  "kernelspec": {
   "display_name": "Python 3",
   "language": "python",
   "name": "python3"
  },
  "language_info": {
   "codemirror_mode": {
    "name": "ipython",
    "version": 3
   },
   "file_extension": ".py",
   "mimetype": "text/x-python",
   "name": "python",
   "nbconvert_exporter": "python",
   "pygments_lexer": "ipython3",
   "version": "3.8.5"
  }
 },
 "nbformat": 4,
 "nbformat_minor": 4
}
