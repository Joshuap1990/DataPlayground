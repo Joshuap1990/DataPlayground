{
 "cells": [
  {
   "cell_type": "markdown",
   "metadata": {},
   "source": [
    "## The Gamma Distribution"
   ]
  },
  {
   "cell_type": "markdown",
   "metadata": {},
   "source": [
    "The gamma distribution is a continuour probability distribution, the PDF is given by the formula:\n",
    "\n",
    ":<math>\n",
    "\\begin{align}\n",
    "f(x;\\alpha,\\beta) & = \\frac{ \\beta^\\alpha x^{\\alpha-1} e^{-\\beta x}}{\\Gamma(\\alpha)} \\quad \\text{ for } x > 0 \\quad \\alpha, \\beta > 0, \\\\[6pt]\n",
    "\\end{align}\n",
    "</math>\n",
    "\n",
    "The mean of the gamma is:\n",
    ":<math>\n",
    "\\begin{align}\n",
    "\\alpha \\beta \\\\[6pt]\n",
    "\\end{align}\n",
    "</math>\n",
    "And the variance is given by:\n",
    ":<math>\n",
    "\\begin{align}\n",
    "\\alpha \\beta^2 \\\\[6pt]\n",
    "\\end{align}\n",
    "</math>\n",
    "\n"
   ]
  },
  {
   "cell_type": "markdown",
   "metadata": {},
   "source": [
    "### Why might we want to use the Gamma Distribution?\n",
    "\n",
    "The gamma distribution is really useful for estimating the wait time between events. You may have noticed in the literature that the wait time between events is modelled using the exponential distribution - this is totally compatable as the exponential distribution is a special case of the gamma distribution\n",
    "\n",
    "### Properties of the Gamma Distribution\n",
    "\n",
    "The Gamma Distribution typically starts at zero (on the left side of the distribution) and has an infinitely long right tail. Because of this the gamma distribution is really useful when considering time between events (you can't wait a negative amount of time, but you can wait an infinite period - the thing just never arrives)\n",
    "\n",
    "\n",
    "### Gamma Distribution Examples\n",
    "\n",
    "- Time spent sitting on a computer\n",
    "- Wait time between events (in a more general form than the exponential distribution)\n",
    "\n",
    "\n",
    "#### Time spent on a computer\n",
    "\n",
    "We can imagine that time spent sitting in front of a computer might require a gamma distribution. You can't spend a negative amount of time (therefore always has to start at zero), and there is no limit to the amount of time you can spend.\n",
    "\n",
    "So lets say we have a dataset which is a record of how long people spend sitting at their computers, with a mean of 20 and a variance of 80. We can solve the formulae simultaneously to determine:\n",
    ":<math>\n",
    "\\begin{align}\n",
    "\\alpha = 5      \\beta =4 \\\\[6pt]\n",
    "\\end{align}\n",
    "</math>\n",
    "\n",
    "\n",
    "\n"
   ]
  },
  {
   "cell_type": "code",
   "execution_count": null,
   "metadata": {},
   "outputs": [],
   "source": []
  }
 ],
 "metadata": {
  "kernelspec": {
   "display_name": "Python 3",
   "language": "python",
   "name": "python3"
  },
  "language_info": {
   "codemirror_mode": {
    "name": "ipython",
    "version": 3
   },
   "file_extension": ".py",
   "mimetype": "text/x-python",
   "name": "python",
   "nbconvert_exporter": "python",
   "pygments_lexer": "ipython3",
   "version": "3.8.2"
  }
 },
 "nbformat": 4,
 "nbformat_minor": 4
}
