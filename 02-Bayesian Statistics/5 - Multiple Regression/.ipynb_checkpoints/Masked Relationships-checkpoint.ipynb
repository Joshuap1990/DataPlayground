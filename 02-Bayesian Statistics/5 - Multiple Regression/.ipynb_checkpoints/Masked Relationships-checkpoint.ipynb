{
 "cells": [
  {
   "cell_type": "markdown",
   "metadata": {},
   "source": [
    "# Masked Relationships"
   ]
  },
  {
   "cell_type": "markdown",
   "metadata": {},
   "source": [
    "The divorce rate example demonstrates that multiple predictor variables are useful for knocking out spurious association. A second reason to use more than one predictor variable is to measure the direct influences of multiple factors on an outcome, when none of those influences is appearent from bivariate relationships. This kind of problem tends to arise when there are to predictor variables that are correlated with one another. However, one of these is positively correlated and the other is negatively correlated with it.\n",
    "\n",
    "Lets consider this kind of problem in a new data context, information about the composition of milk across primate species, as well as some facts about those species, like body mass and brain size. Milk is a huge investment, being much more expensive than gestation. Such an expensive resource is likely to be adjusted in subtle ways, depending upon the physiological and development details of each mammal species."
   ]
  },
  {
   "cell_type": "code",
   "execution_count": 1,
   "metadata": {},
   "outputs": [],
   "source": [
    "%matplotlib inline\n",
    "import pymc3 as pm\n",
    "import numpy as np\n",
    "import pandas as pd\n",
    "from scipy import stats\n",
    "import matplotlib.pyplot as plt\n",
    "import seaborn as sns\n",
    "import statsmodels.formula.api as smf"
   ]
  },
  {
   "cell_type": "code",
   "execution_count": 7,
   "metadata": {},
   "outputs": [
    {
     "data": {
      "text/html": [
       "<div>\n",
       "<style scoped>\n",
       "    .dataframe tbody tr th:only-of-type {\n",
       "        vertical-align: middle;\n",
       "    }\n",
       "\n",
       "    .dataframe tbody tr th {\n",
       "        vertical-align: top;\n",
       "    }\n",
       "\n",
       "    .dataframe thead th {\n",
       "        text-align: right;\n",
       "    }\n",
       "</style>\n",
       "<table border=\"1\" class=\"dataframe\">\n",
       "  <thead>\n",
       "    <tr style=\"text-align: right;\">\n",
       "      <th></th>\n",
       "      <th>clade</th>\n",
       "      <th>species</th>\n",
       "      <th>kcal.per.g</th>\n",
       "      <th>perc.fat</th>\n",
       "      <th>perc.protein</th>\n",
       "      <th>perc.lactose</th>\n",
       "      <th>mass</th>\n",
       "      <th>neocortex.perc</th>\n",
       "    </tr>\n",
       "  </thead>\n",
       "  <tbody>\n",
       "    <tr>\n",
       "      <th>0</th>\n",
       "      <td>Strepsirrhine</td>\n",
       "      <td>Eulemur fulvus</td>\n",
       "      <td>0.49</td>\n",
       "      <td>16.60</td>\n",
       "      <td>15.42</td>\n",
       "      <td>67.98</td>\n",
       "      <td>1.95</td>\n",
       "      <td>55.16</td>\n",
       "    </tr>\n",
       "    <tr>\n",
       "      <th>5</th>\n",
       "      <td>New World Monkey</td>\n",
       "      <td>Alouatta seniculus</td>\n",
       "      <td>0.47</td>\n",
       "      <td>21.22</td>\n",
       "      <td>23.58</td>\n",
       "      <td>55.20</td>\n",
       "      <td>5.25</td>\n",
       "      <td>64.54</td>\n",
       "    </tr>\n",
       "    <tr>\n",
       "      <th>6</th>\n",
       "      <td>New World Monkey</td>\n",
       "      <td>A palliata</td>\n",
       "      <td>0.56</td>\n",
       "      <td>29.66</td>\n",
       "      <td>23.46</td>\n",
       "      <td>46.88</td>\n",
       "      <td>5.37</td>\n",
       "      <td>64.54</td>\n",
       "    </tr>\n",
       "    <tr>\n",
       "      <th>7</th>\n",
       "      <td>New World Monkey</td>\n",
       "      <td>Cebus apella</td>\n",
       "      <td>0.89</td>\n",
       "      <td>53.41</td>\n",
       "      <td>15.80</td>\n",
       "      <td>30.79</td>\n",
       "      <td>2.51</td>\n",
       "      <td>67.64</td>\n",
       "    </tr>\n",
       "    <tr>\n",
       "      <th>9</th>\n",
       "      <td>New World Monkey</td>\n",
       "      <td>S sciureus</td>\n",
       "      <td>0.92</td>\n",
       "      <td>50.58</td>\n",
       "      <td>22.33</td>\n",
       "      <td>27.09</td>\n",
       "      <td>0.68</td>\n",
       "      <td>68.85</td>\n",
       "    </tr>\n",
       "  </tbody>\n",
       "</table>\n",
       "</div>"
      ],
      "text/plain": [
       "              clade             species  kcal.per.g  perc.fat  perc.protein  \\\n",
       "0     Strepsirrhine      Eulemur fulvus        0.49     16.60         15.42   \n",
       "5  New World Monkey  Alouatta seniculus        0.47     21.22         23.58   \n",
       "6  New World Monkey          A palliata        0.56     29.66         23.46   \n",
       "7  New World Monkey        Cebus apella        0.89     53.41         15.80   \n",
       "9  New World Monkey          S sciureus        0.92     50.58         22.33   \n",
       "\n",
       "   perc.lactose  mass  neocortex.perc  \n",
       "0         67.98  1.95           55.16  \n",
       "5         55.20  5.25           64.54  \n",
       "6         46.88  5.37           64.54  \n",
       "7         30.79  2.51           67.64  \n",
       "9         27.09  0.68           68.85  "
      ]
     },
     "execution_count": 7,
     "metadata": {},
     "output_type": "execute_result"
    }
   ],
   "source": [
    "df = pd.read_csv('milk.csv', sep=';')\n",
    "df.dropna(inplace=True)\n",
    "df.head()"
   ]
  },
  {
   "cell_type": "markdown",
   "metadata": {},
   "source": [
    "A popular hypothesis has it that primates with larger brains produce more energetic milk, so that brains evolve quickly. Answering questions of this sort consumes a lot of effort in evolutionary biology, because there are many subtle statistical issues that arise when comparing species. We'll start simple, but by thr end of the book we'll include some more of these subtle issues.\n",
    "\n",
    "The variables we'll consider for now are\n",
    "- kcal.per.gram\n",
    "- mass\n",
    "- neocortex.perc\n",
    "\n",
    "The question here is to what extent energy content of milk, measured here is kilocalories, is related to the brain mass that is neocortex. neocortex is the grey, outer part of the brain that is particularly elaborated in mammals and especially primates. We'll end up needing female body mass as well,to see if that hides the relationships among the variables. As in previous examples, standardising helps us both get a reliable approximation of the posterior as well as build reasonable priors."
   ]
  },
  {
   "cell_type": "code",
   "execution_count": 37,
   "metadata": {},
   "outputs": [],
   "source": [
    "# make a standardise function for ease\n",
    "def standardise(data):\n",
    "    standardised = (data - data.mean()) / data.std(ddof=0)\n",
    "    return standardised"
   ]
  },
  {
   "cell_type": "code",
   "execution_count": 38,
   "metadata": {},
   "outputs": [],
   "source": [
    "df['K'] = standardise(df['kcal.per.g'])\n",
    "df['N'] = standardise(df['neocortex.perc'])\n",
    "df['M'] = standardise(df['mass'])"
   ]
  },
  {
   "cell_type": "code",
   "execution_count": 40,
   "metadata": {},
   "outputs": [
    {
     "data": {
      "text/plain": [
       "<AxesSubplot:ylabel='Frequency'>"
      ]
     },
     "execution_count": 40,
     "metadata": {},
     "output_type": "execute_result"
    },
    {
     "data": {
      "image/png": "[encoded data removed]",
      "text/plain": [
       "<Figure size 432x288 with 1 Axes>"
      ]
     },
     "metadata": {
      "needs_background": "light"
     },
     "output_type": "display_data"
    }
   ],
   "source": [
    "df['N'].plot(kind='hist')"
   ]
  },
  {
   "cell_type": "markdown",
   "metadata": {},
   "source": [
    "The first model to consider is the simple bivariate regression between kilocalories and neocortex percent.\n",
    "\n",
    "Lets set up the model in the normal way. We still need to consider the priors, but first lets try and just run it with some vague priors, because there is another key modelling issues to address first.\n",
    "\n",
    "Before considering posterior predictions, lets consider those priors. As in many simple linear regression problems, these priors are harmless. But are they reasonable? It is important to build reasonable priors, because as the model becomes less simple, the priors can be very helpful, but only if they are scientifically reasonable."
   ]
  },
  {
   "cell_type": "code",
   "execution_count": 41,
   "metadata": {},
   "outputs": [
    {
     "name": "stderr",
     "output_type": "stream",
     "text": [
      "Auto-assigning NUTS sampler...\n",
      "Initializing NUTS using jitter+adapt_diag...\n",
      "Multiprocess sampling (4 chains in 4 jobs)\n",
      "NUTS: [sigma, bn, a]\n",
      "Sampling 4 chains, 0 divergences: 100%|██████████| 8000/8000 [00:07<00:00, 1054.76draws/s]\n"
     ]
    }
   ],
   "source": [
    "with pm.Model() as model_5_5:\n",
    "    a = pm.Normal('a', mu=0, sd=0.2)\n",
    "    bn = pm.Normal('bn', mu=0, sd=0.5)\n",
    "    sigma = pm.Exponential('sigma', lam=1)\n",
    "    mu = pm.Deterministic('mu', a + bn * df['N'])\n",
    "    kcal = pm.Normal('kcal', mu=mu, sd=sigma, observed=df['K'])\n",
    "    \n",
    "    # Sample from priors to see what results we are open to before we do the analysis\n",
    "    prior_checks = pm.sample_prior_predictive(samples=50)\n",
    "    \n",
    "    # sample from the data to obtain our posterior\n",
    "    trace_5_5 = pm.sample(1000, tune=1000)"
   ]
  },
  {
   "cell_type": "markdown",
   "metadata": {},
   "source": [
    "Lets use sample_prior_predictive to sample out priors and plot 50 regression lines"
   ]
  },
  {
   "cell_type": "code",
   "execution_count": 42,
   "metadata": {},
   "outputs": [
    {
     "data": {
      "image/png": "[encoded data removed]",
      "text/plain": [
       "<Figure size 432x288 with 1 Axes>"
      ]
     },
     "metadata": {
      "needs_background": "light"
     },
     "output_type": "display_data"
    }
   ],
   "source": [
    "_, ax = plt.subplots()\n",
    "\n",
    "x = np.linspace(-2, 2, 50)\n",
    "\n",
    "for a, b in zip(prior_checks[\"a\"], prior_checks[\"bn\"]):\n",
    "    y = a + b * x\n",
    "    ax.plot(x, y, c=\"k\", alpha=0.2)\n",
    "\n",
    "ax.set_xlabel(\"Neocortex Percent (std)\")\n",
    "ax.set_ylabel(\"kilocal per g (std)\")\n",
    "ax.set_title(\"Prior predictive checks\");"
   ]
  },
  {
   "cell_type": "markdown",
   "metadata": {},
   "source": [
    "With two standardised variables, when the predictor is zero, the expected value of the outcome should also be zero. And the slope bn needs to be a bit tighter as well, so that it doesn't regularly produce impossibly strong relationships.\n",
    "\n",
    "Have a play about with the priors (above) and see what affect it has!\n",
    "\n",
    "## Now lets look at the posterior"
   ]
  },
  {
   "cell_type": "code",
   "execution_count": 43,
   "metadata": {},
   "outputs": [
    {
     "data": {
      "text/html": [
       "<div>\n",
       "<style scoped>\n",
       "    .dataframe tbody tr th:only-of-type {\n",
       "        vertical-align: middle;\n",
       "    }\n",
       "\n",
       "    .dataframe tbody tr th {\n",
       "        vertical-align: top;\n",
       "    }\n",
       "\n",
       "    .dataframe thead th {\n",
       "        text-align: right;\n",
       "    }\n",
       "</style>\n",
       "<table border=\"1\" class=\"dataframe\">\n",
       "  <thead>\n",
       "    <tr style=\"text-align: right;\">\n",
       "      <th></th>\n",
       "      <th>mean</th>\n",
       "      <th>sd</th>\n",
       "      <th>hpd_3%</th>\n",
       "      <th>hpd_97%</th>\n",
       "      <th>mcse_mean</th>\n",
       "      <th>mcse_sd</th>\n",
       "      <th>ess_mean</th>\n",
       "      <th>ess_sd</th>\n",
       "      <th>ess_bulk</th>\n",
       "      <th>ess_tail</th>\n",
       "      <th>r_hat</th>\n",
       "    </tr>\n",
       "  </thead>\n",
       "  <tbody>\n",
       "    <tr>\n",
       "      <th>a</th>\n",
       "      <td>-0.001</td>\n",
       "      <td>0.162</td>\n",
       "      <td>-0.319</td>\n",
       "      <td>0.299</td>\n",
       "      <td>0.002</td>\n",
       "      <td>0.003</td>\n",
       "      <td>5274.0</td>\n",
       "      <td>1853.0</td>\n",
       "      <td>5272.0</td>\n",
       "      <td>2710.0</td>\n",
       "      <td>1.0</td>\n",
       "    </tr>\n",
       "    <tr>\n",
       "      <th>bn</th>\n",
       "      <td>0.119</td>\n",
       "      <td>0.228</td>\n",
       "      <td>-0.312</td>\n",
       "      <td>0.541</td>\n",
       "      <td>0.003</td>\n",
       "      <td>0.003</td>\n",
       "      <td>4631.0</td>\n",
       "      <td>2981.0</td>\n",
       "      <td>4647.0</td>\n",
       "      <td>3108.0</td>\n",
       "      <td>1.0</td>\n",
       "    </tr>\n",
       "    <tr>\n",
       "      <th>sigma</th>\n",
       "      <td>1.071</td>\n",
       "      <td>0.194</td>\n",
       "      <td>0.727</td>\n",
       "      <td>1.433</td>\n",
       "      <td>0.003</td>\n",
       "      <td>0.002</td>\n",
       "      <td>4109.0</td>\n",
       "      <td>3844.0</td>\n",
       "      <td>4242.0</td>\n",
       "      <td>2115.0</td>\n",
       "      <td>1.0</td>\n",
       "    </tr>\n",
       "  </tbody>\n",
       "</table>\n",
       "</div>"
      ],
      "text/plain": [
       "        mean     sd  hpd_3%  hpd_97%  mcse_mean  mcse_sd  ess_mean  ess_sd  \\\n",
       "a     -0.001  0.162  -0.319    0.299      0.002    0.003    5274.0  1853.0   \n",
       "bn     0.119  0.228  -0.312    0.541      0.003    0.003    4631.0  2981.0   \n",
       "sigma  1.071  0.194   0.727    1.433      0.003    0.002    4109.0  3844.0   \n",
       "\n",
       "       ess_bulk  ess_tail  r_hat  \n",
       "a        5272.0    2710.0    1.0  \n",
       "bn       4647.0    3108.0    1.0  \n",
       "sigma    4242.0    2115.0    1.0  "
      ]
     },
     "execution_count": 43,
     "metadata": {},
     "output_type": "execute_result"
    }
   ],
   "source": [
    "pm.summary(trace_5_5,['a','bn','sigma'])"
   ]
  },
  {
   "cell_type": "code",
   "execution_count": 46,
   "metadata": {},
   "outputs": [
    {
     "data": {
      "image/png": "[encoded data removed]",
      "text/plain": [
       "<Figure size 432x288 with 1 Axes>"
      ]
     },
     "metadata": {
      "needs_background": "light"
     },
     "output_type": "display_data"
    }
   ],
   "source": [
    "_, ax = plt.subplots()\n",
    "\n",
    "x = np.linspace(-2, 2, 50)\n",
    "\n",
    "\n",
    "for a, b in zip(trace_5_5[\"a\"], trace_5_5[\"bn\"]):\n",
    "    y = a + b * x\n",
    "    ax.plot(x, y, c=\"k\", alpha=0.01)\n",
    "    \n",
    "plt.plot(df['N'], df['K'], 'C0o')\n",
    "    \n",
    "ax.set_xlabel(\"Neocortex Percent (std)\")\n",
    "ax.set_ylabel(\"kilocal per g (std)\")\n",
    "ax.set_title(\"Posterior predictive checks -- A View of the mean\");\n",
    "\n",
    "plt.show()"
   ]
  },
  {
   "cell_type": "markdown",
   "metadata": {},
   "source": [
    "from this summary, you can possibly see that this is neither a strong nor a very precise association. The standard deviation is almost twice the posterior mean. The posterior mean line is weakly positive, but it is highly imprecise. A lot of mildly positive and negative slopes are plausible, given this model and these data.\n",
    "Now lets consider another predictor variable, adult female body mass, mass in the dataframe. Lets use the logarithm of mass, log(mass) as a predictor as well. Why the logarithm of mass instead of the raw mass in kilograms? It is often true that the scaling measurements like body mass are related by magnitudes to other variables. Taking the log of a measure translates the measure into megnitudes. So by using the logarithm of body mass here, we're saying that we suspect that the magnitude of a mothers body mass is related to milk energy, in a linear fashion."
   ]
  },
  {
   "cell_type": "code",
   "execution_count": 57,
   "metadata": {},
   "outputs": [],
   "source": [
    "import numpy as np\n",
    "df['logM'] = standardise(np.log(df['mass']))"
   ]
  },
  {
   "cell_type": "code",
   "execution_count": 61,
   "metadata": {},
   "outputs": [
    {
     "data": {
      "text/html": [
       "<div>\n",
       "<style scoped>\n",
       "    .dataframe tbody tr th:only-of-type {\n",
       "        vertical-align: middle;\n",
       "    }\n",
       "\n",
       "    .dataframe tbody tr th {\n",
       "        vertical-align: top;\n",
       "    }\n",
       "\n",
       "    .dataframe thead th {\n",
       "        text-align: right;\n",
       "    }\n",
       "</style>\n",
       "<table border=\"1\" class=\"dataframe\">\n",
       "  <thead>\n",
       "    <tr style=\"text-align: right;\">\n",
       "      <th></th>\n",
       "      <th>clade</th>\n",
       "      <th>species</th>\n",
       "      <th>kcal.per.g</th>\n",
       "      <th>perc.fat</th>\n",
       "      <th>perc.protein</th>\n",
       "      <th>perc.lactose</th>\n",
       "      <th>mass</th>\n",
       "      <th>neocortex.perc</th>\n",
       "      <th>K</th>\n",
       "      <th>N</th>\n",
       "      <th>M</th>\n",
       "      <th>logM</th>\n",
       "    </tr>\n",
       "  </thead>\n",
       "  <tbody>\n",
       "    <tr>\n",
       "      <th>0</th>\n",
       "      <td>Strepsirrhine</td>\n",
       "      <td>Eulemur fulvus</td>\n",
       "      <td>0.49</td>\n",
       "      <td>16.60</td>\n",
       "      <td>15.42</td>\n",
       "      <td>67.98</td>\n",
       "      <td>1.95</td>\n",
       "      <td>55.16</td>\n",
       "      <td>-0.999465</td>\n",
       "      <td>-2.144217</td>\n",
       "      <td>-0.641993</td>\n",
       "      <td>-0.443393</td>\n",
       "    </tr>\n",
       "    <tr>\n",
       "      <th>5</th>\n",
       "      <td>New World Monkey</td>\n",
       "      <td>Alouatta seniculus</td>\n",
       "      <td>0.47</td>\n",
       "      <td>21.22</td>\n",
       "      <td>23.58</td>\n",
       "      <td>55.20</td>\n",
       "      <td>5.25</td>\n",
       "      <td>64.54</td>\n",
       "      <td>-1.118699</td>\n",
       "      <td>-0.524295</td>\n",
       "      <td>-0.497751</td>\n",
       "      <td>0.084741</td>\n",
       "    </tr>\n",
       "    <tr>\n",
       "      <th>6</th>\n",
       "      <td>New World Monkey</td>\n",
       "      <td>A palliata</td>\n",
       "      <td>0.56</td>\n",
       "      <td>29.66</td>\n",
       "      <td>23.46</td>\n",
       "      <td>46.88</td>\n",
       "      <td>5.37</td>\n",
       "      <td>64.54</td>\n",
       "      <td>-0.582144</td>\n",
       "      <td>-0.524295</td>\n",
       "      <td>-0.492506</td>\n",
       "      <td>0.096792</td>\n",
       "    </tr>\n",
       "    <tr>\n",
       "      <th>7</th>\n",
       "      <td>New World Monkey</td>\n",
       "      <td>Cebus apella</td>\n",
       "      <td>0.89</td>\n",
       "      <td>53.41</td>\n",
       "      <td>15.80</td>\n",
       "      <td>30.79</td>\n",
       "      <td>2.51</td>\n",
       "      <td>67.64</td>\n",
       "      <td>1.385223</td>\n",
       "      <td>0.011073</td>\n",
       "      <td>-0.617515</td>\n",
       "      <td>-0.308771</td>\n",
       "    </tr>\n",
       "    <tr>\n",
       "      <th>9</th>\n",
       "      <td>New World Monkey</td>\n",
       "      <td>S sciureus</td>\n",
       "      <td>0.92</td>\n",
       "      <td>50.58</td>\n",
       "      <td>22.33</td>\n",
       "      <td>27.09</td>\n",
       "      <td>0.68</td>\n",
       "      <td>68.85</td>\n",
       "      <td>1.564075</td>\n",
       "      <td>0.220040</td>\n",
       "      <td>-0.697504</td>\n",
       "      <td>-1.005171</td>\n",
       "    </tr>\n",
       "  </tbody>\n",
       "</table>\n",
       "</div>"
      ],
      "text/plain": [
       "              clade             species  kcal.per.g  perc.fat  perc.protein  \\\n",
       "0     Strepsirrhine      Eulemur fulvus        0.49     16.60         15.42   \n",
       "5  New World Monkey  Alouatta seniculus        0.47     21.22         23.58   \n",
       "6  New World Monkey          A palliata        0.56     29.66         23.46   \n",
       "7  New World Monkey        Cebus apella        0.89     53.41         15.80   \n",
       "9  New World Monkey          S sciureus        0.92     50.58         22.33   \n",
       "\n",
       "   perc.lactose  mass  neocortex.perc         K         N         M      logM  \n",
       "0         67.98  1.95           55.16 -0.999465 -2.144217 -0.641993 -0.443393  \n",
       "5         55.20  5.25           64.54 -1.118699 -0.524295 -0.497751  0.084741  \n",
       "6         46.88  5.37           64.54 -0.582144 -0.524295 -0.492506  0.096792  \n",
       "7         30.79  2.51           67.64  1.385223  0.011073 -0.617515 -0.308771  \n",
       "9         27.09  0.68           68.85  1.564075  0.220040 -0.697504 -1.005171  "
      ]
     },
     "execution_count": 61,
     "metadata": {},
     "output_type": "execute_result"
    }
   ],
   "source": [
    "df.head()"
   ]
  },
  {
   "cell_type": "code",
   "execution_count": 59,
   "metadata": {},
   "outputs": [
    {
     "name": "stderr",
     "output_type": "stream",
     "text": [
      "Auto-assigning NUTS sampler...\n",
      "Initializing NUTS using jitter+adapt_diag...\n",
      "Multiprocess sampling (4 chains in 4 jobs)\n",
      "NUTS: [sigma, bm, a]\n",
      "Sampling 4 chains, 0 divergences: 100%|██████████| 8000/8000 [00:08<00:00, 891.09draws/s] \n"
     ]
    },
    {
     "data": {
      "text/html": [
       "<div>\n",
       "<style scoped>\n",
       "    .dataframe tbody tr th:only-of-type {\n",
       "        vertical-align: middle;\n",
       "    }\n",
       "\n",
       "    .dataframe tbody tr th {\n",
       "        vertical-align: top;\n",
       "    }\n",
       "\n",
       "    .dataframe thead th {\n",
       "        text-align: right;\n",
       "    }\n",
       "</style>\n",
       "<table border=\"1\" class=\"dataframe\">\n",
       "  <thead>\n",
       "    <tr style=\"text-align: right;\">\n",
       "      <th></th>\n",
       "      <th>mean</th>\n",
       "      <th>sd</th>\n",
       "      <th>hpd_3%</th>\n",
       "      <th>hpd_97%</th>\n",
       "      <th>mcse_mean</th>\n",
       "      <th>mcse_sd</th>\n",
       "      <th>ess_mean</th>\n",
       "      <th>ess_sd</th>\n",
       "      <th>ess_bulk</th>\n",
       "      <th>ess_tail</th>\n",
       "      <th>r_hat</th>\n",
       "    </tr>\n",
       "  </thead>\n",
       "  <tbody>\n",
       "    <tr>\n",
       "      <th>a</th>\n",
       "      <td>-0.003</td>\n",
       "      <td>0.245</td>\n",
       "      <td>-0.449</td>\n",
       "      <td>0.447</td>\n",
       "      <td>0.004</td>\n",
       "      <td>0.004</td>\n",
       "      <td>3992.0</td>\n",
       "      <td>1936.0</td>\n",
       "      <td>4026.0</td>\n",
       "      <td>3023.0</td>\n",
       "      <td>1.0</td>\n",
       "    </tr>\n",
       "    <tr>\n",
       "      <th>bm</th>\n",
       "      <td>-0.336</td>\n",
       "      <td>0.258</td>\n",
       "      <td>-0.839</td>\n",
       "      <td>0.137</td>\n",
       "      <td>0.004</td>\n",
       "      <td>0.003</td>\n",
       "      <td>3914.0</td>\n",
       "      <td>3143.0</td>\n",
       "      <td>3954.0</td>\n",
       "      <td>2755.0</td>\n",
       "      <td>1.0</td>\n",
       "    </tr>\n",
       "    <tr>\n",
       "      <th>sigma</th>\n",
       "      <td>1.044</td>\n",
       "      <td>0.203</td>\n",
       "      <td>0.686</td>\n",
       "      <td>1.415</td>\n",
       "      <td>0.004</td>\n",
       "      <td>0.003</td>\n",
       "      <td>3205.0</td>\n",
       "      <td>3083.0</td>\n",
       "      <td>3248.0</td>\n",
       "      <td>1891.0</td>\n",
       "      <td>1.0</td>\n",
       "    </tr>\n",
       "  </tbody>\n",
       "</table>\n",
       "</div>"
      ],
      "text/plain": [
       "        mean     sd  hpd_3%  hpd_97%  mcse_mean  mcse_sd  ess_mean  ess_sd  \\\n",
       "a     -0.003  0.245  -0.449    0.447      0.004    0.004    3992.0  1936.0   \n",
       "bm    -0.336  0.258  -0.839    0.137      0.004    0.003    3914.0  3143.0   \n",
       "sigma  1.044  0.203   0.686    1.415      0.004    0.003    3205.0  3083.0   \n",
       "\n",
       "       ess_bulk  ess_tail  r_hat  \n",
       "a        4026.0    3023.0    1.0  \n",
       "bm       3954.0    2755.0    1.0  \n",
       "sigma    3248.0    1891.0    1.0  "
      ]
     },
     "execution_count": 59,
     "metadata": {},
     "output_type": "execute_result"
    }
   ],
   "source": [
    "with pm.Model() as model_5_6:\n",
    "    a = pm.Normal('a', mu=0, sd=1)\n",
    "    bm = pm.Normal('bm', mu=0, sd=1)\n",
    "    sigma = pm.Exponential('sigma', lam=1)\n",
    "    mu = pm.Deterministic('mu', a + bm * df['logM'])\n",
    "    kcal = pm.Normal('kcal', mu=mu, sd=sigma, observed=df['K'])\n",
    "    trace_5_6 = pm.sample(1000, tune=1000)\n",
    "\n",
    "pm.summary(trace_5_6,['a','bm','sigma'])"
   ]
  },
  {
   "cell_type": "code",
   "execution_count": 60,
   "metadata": {},
   "outputs": [
    {
     "data": {
      "image/png": "[encoded data removed]",
      "text/plain": [
       "<Figure size 432x288 with 1 Axes>"
      ]
     },
     "metadata": {
      "needs_background": "light"
     },
     "output_type": "display_data"
    }
   ],
   "source": [
    "_, ax = plt.subplots()\n",
    "\n",
    "x = np.linspace(-2, 2, 50)\n",
    "\n",
    "\n",
    "for a, b in zip(trace_5_6[\"a\"], trace_5_6[\"bm\"]):\n",
    "    y = a + b * x\n",
    "    ax.plot(x, y, c=\"k\", alpha=0.01)\n",
    "    \n",
    "plt.plot(df['logM'], df['K'], 'C0o')\n",
    "    \n",
    "ax.set_xlabel(\"log body mass (std)\")\n",
    "ax.set_ylabel(\"kilocal per g (std)\")\n",
    "ax.set_title(\"Posterior predictive checks -- A View of the mean\");\n",
    "\n",
    "plt.show()"
   ]
  },
  {
   "cell_type": "markdown",
   "metadata": {},
   "source": [
    "Log mass is negatively correlated with kilocalories. This influence does seem stronger than that of neocortex percent, although in the opposite direction. It is quite uncertain though, with a wide confidence interval that is consistent with a wide range of both weak and stronger relationships.\n",
    "\n",
    "Now lets see what happens when we add both predictor variables at the same time to the regression."
   ]
  },
  {
   "cell_type": "code",
   "execution_count": 64,
   "metadata": {},
   "outputs": [
    {
     "name": "stderr",
     "output_type": "stream",
     "text": [
      "Auto-assigning NUTS sampler...\n",
      "Initializing NUTS using jitter+adapt_diag...\n",
      "Multiprocess sampling (4 chains in 4 jobs)\n",
      "NUTS: [sigma, bm, bn, a]\n",
      "Sampling 4 chains, 0 divergences: 100%|██████████| 8000/8000 [00:05<00:00, 1453.77draws/s]\n"
     ]
    },
    {
     "data": {
      "text/html": [
       "<div>\n",
       "<style scoped>\n",
       "    .dataframe tbody tr th:only-of-type {\n",
       "        vertical-align: middle;\n",
       "    }\n",
       "\n",
       "    .dataframe tbody tr th {\n",
       "        vertical-align: top;\n",
       "    }\n",
       "\n",
       "    .dataframe thead th {\n",
       "        text-align: right;\n",
       "    }\n",
       "</style>\n",
       "<table border=\"1\" class=\"dataframe\">\n",
       "  <thead>\n",
       "    <tr style=\"text-align: right;\">\n",
       "      <th></th>\n",
       "      <th>mean</th>\n",
       "      <th>sd</th>\n",
       "      <th>hpd_3%</th>\n",
       "      <th>hpd_97%</th>\n",
       "      <th>mcse_mean</th>\n",
       "      <th>mcse_sd</th>\n",
       "      <th>ess_mean</th>\n",
       "      <th>ess_sd</th>\n",
       "      <th>ess_bulk</th>\n",
       "      <th>ess_tail</th>\n",
       "      <th>r_hat</th>\n",
       "    </tr>\n",
       "  </thead>\n",
       "  <tbody>\n",
       "    <tr>\n",
       "      <th>a</th>\n",
       "      <td>-0.001</td>\n",
       "      <td>0.138</td>\n",
       "      <td>-0.254</td>\n",
       "      <td>0.263</td>\n",
       "      <td>0.002</td>\n",
       "      <td>0.002</td>\n",
       "      <td>3202.0</td>\n",
       "      <td>1768.0</td>\n",
       "      <td>3205.0</td>\n",
       "      <td>2510.0</td>\n",
       "      <td>1.0</td>\n",
       "    </tr>\n",
       "    <tr>\n",
       "      <th>bn</th>\n",
       "      <td>0.836</td>\n",
       "      <td>0.286</td>\n",
       "      <td>0.299</td>\n",
       "      <td>1.377</td>\n",
       "      <td>0.006</td>\n",
       "      <td>0.004</td>\n",
       "      <td>2410.0</td>\n",
       "      <td>2410.0</td>\n",
       "      <td>2431.0</td>\n",
       "      <td>2077.0</td>\n",
       "      <td>1.0</td>\n",
       "    </tr>\n",
       "    <tr>\n",
       "      <th>bm</th>\n",
       "      <td>-0.944</td>\n",
       "      <td>0.285</td>\n",
       "      <td>-1.506</td>\n",
       "      <td>-0.420</td>\n",
       "      <td>0.006</td>\n",
       "      <td>0.004</td>\n",
       "      <td>2539.0</td>\n",
       "      <td>2539.0</td>\n",
       "      <td>2579.0</td>\n",
       "      <td>2043.0</td>\n",
       "      <td>1.0</td>\n",
       "    </tr>\n",
       "    <tr>\n",
       "      <th>sigma</th>\n",
       "      <td>0.791</td>\n",
       "      <td>0.157</td>\n",
       "      <td>0.515</td>\n",
       "      <td>1.055</td>\n",
       "      <td>0.003</td>\n",
       "      <td>0.002</td>\n",
       "      <td>2625.0</td>\n",
       "      <td>2582.0</td>\n",
       "      <td>2656.0</td>\n",
       "      <td>2323.0</td>\n",
       "      <td>1.0</td>\n",
       "    </tr>\n",
       "  </tbody>\n",
       "</table>\n",
       "</div>"
      ],
      "text/plain": [
       "        mean     sd  hpd_3%  hpd_97%  mcse_mean  mcse_sd  ess_mean  ess_sd  \\\n",
       "a     -0.001  0.138  -0.254    0.263      0.002    0.002    3202.0  1768.0   \n",
       "bn     0.836  0.286   0.299    1.377      0.006    0.004    2410.0  2410.0   \n",
       "bm    -0.944  0.285  -1.506   -0.420      0.006    0.004    2539.0  2539.0   \n",
       "sigma  0.791  0.157   0.515    1.055      0.003    0.002    2625.0  2582.0   \n",
       "\n",
       "       ess_bulk  ess_tail  r_hat  \n",
       "a        3205.0    2510.0    1.0  \n",
       "bn       2431.0    2077.0    1.0  \n",
       "bm       2579.0    2043.0    1.0  \n",
       "sigma    2656.0    2323.0    1.0  "
      ]
     },
     "execution_count": 64,
     "metadata": {},
     "output_type": "execute_result"
    }
   ],
   "source": [
    "with pm.Model() as model_5_7:\n",
    "    a = pm.Normal('a', mu=0, sd=0.2)\n",
    "    bn = pm.Normal('bn', mu=0, sd=1)\n",
    "    bm = pm.Normal('bm', mu=0, sd=1)\n",
    "    sigma = pm.Exponential('sigma', lam=1)\n",
    "    \n",
    "    mu = pm.Deterministic('mu', a + bn * df['N'] + bm * df['logM'])\n",
    "    \n",
    "    kcal = pm.Normal('kcal', mu=mu, sd=sigma, observed=df['K'])\n",
    "    \n",
    "    trace_5_7 = pm.sample(1000, tune=1000)\n",
    "    \n",
    "pm.summary(trace_5_7,['a','bn','bm','sigma'])"
   ]
  },
  {
   "cell_type": "code",
   "execution_count": null,
   "metadata": {},
   "outputs": [],
   "source": []
  }
 ],
 "metadata": {
  "kernelspec": {
   "display_name": "Python 3",
   "language": "python",
   "name": "python3"
  },
  "language_info": {
   "codemirror_mode": {
    "name": "ipython",
    "version": 3
   },
   "file_extension": ".py",
   "mimetype": "text/x-python",
   "name": "python",
   "nbconvert_exporter": "python",
   "pygments_lexer": "ipython3",
   "version": "3.8.5"
  }
 },
 "nbformat": 4,
 "nbformat_minor": 4
}
